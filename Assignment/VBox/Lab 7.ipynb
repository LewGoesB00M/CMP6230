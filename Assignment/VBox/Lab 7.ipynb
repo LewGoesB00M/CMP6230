{
 "cells": [
  {
   "cell_type": "markdown",
   "id": "4b8d6da0-0f19-4d8b-8485-9de0eed4dea6",
   "metadata": {},
   "source": [
    "# Lab 7 - Using Redis and Arrow to store and retrieve Pandas DFs."
   ]
  },
  {
   "cell_type": "markdown",
   "id": "ff99703b-65bb-4d48-a901-93b2ee27af3c",
   "metadata": {},
   "source": [
    "The actual exercises for Lab 7 are effectively just your coursework, and ask you to plan and create pipelines with X amount of stages.\n",
    "The code below is technically Exercise 4."
   ]
  },
  {
   "cell_type": "code",
   "execution_count": 5,
   "id": "94bc3942-1763-4551-9af2-94f4da99c6aa",
   "metadata": {},
   "outputs": [],
   "source": [
    "import redis\n",
    "import pyarrow as pa\n",
    "import pyarrow.parquet as pq\n",
    "import pandas as pd"
   ]
  },
  {
   "cell_type": "code",
   "execution_count": 6,
   "id": "56eba0ce-405c-44fb-a7a4-7007515a0b92",
   "metadata": {},
   "outputs": [],
   "source": [
    "redis_conn = redis.Redis(host = \"127.0.0.1\", port = 6379) #, db = redis_db"
   ]
  },
  {
   "cell_type": "code",
   "execution_count": 8,
   "id": "928df1c3-546c-4aa2-b487-4bf61f67dad1",
   "metadata": {},
   "outputs": [],
   "source": [
    "df = pd.read_csv(\"iris.csv\", names = [\"F1\", \"F2\", \"F3\", \"F4\", \"T1\"])"
   ]
  },
  {
   "cell_type": "code",
   "execution_count": 11,
   "id": "39ce61e0-0d0f-4231-b085-8bf0d1fe0b6c",
   "metadata": {},
   "outputs": [],
   "source": [
    "table = pa.Table.from_pandas(df)\n",
    "output_stream = pa.BufferOutputStream()\n",
    "pq.write_table(table, output_stream)\n",
    "serialized_data = output_stream.getvalue().to_pybytes()"
   ]
  },
  {
   "cell_type": "code",
   "execution_count": 12,
   "id": "df84b0d2-ceef-4e8a-90e8-25825c1a10b7",
   "metadata": {},
   "outputs": [
    {
     "data": {
      "text/plain": [
       "True"
      ]
     },
     "execution_count": 12,
     "metadata": {},
     "output_type": "execute_result"
    }
   ],
   "source": [
    "redis_conn.set(\"iris_key\", serialized_data)"
   ]
  },
  {
   "cell_type": "code",
   "execution_count": 14,
   "id": "5bc9a233-032d-434c-83a3-e594135a8fde",
   "metadata": {},
   "outputs": [],
   "source": [
    "retrieved_data = redis_conn.get(\"iris_key\")\n",
    "buffer_reader = pa.BufferReader(retrieved_data)\n",
    "retrieved_table = pq.read_table(buffer_reader)\n",
    "deserialized_df = retrieved_table.to_pandas()"
   ]
  },
  {
   "cell_type": "code",
   "execution_count": 15,
   "id": "8c5c0ac8-d0c4-4716-915b-33928545a28f",
   "metadata": {},
   "outputs": [
    {
     "data": {
      "text/html": [
       "<div>\n",
       "<style scoped>\n",
       "    .dataframe tbody tr th:only-of-type {\n",
       "        vertical-align: middle;\n",
       "    }\n",
       "\n",
       "    .dataframe tbody tr th {\n",
       "        vertical-align: top;\n",
       "    }\n",
       "\n",
       "    .dataframe thead th {\n",
       "        text-align: right;\n",
       "    }\n",
       "</style>\n",
       "<table border=\"1\" class=\"dataframe\">\n",
       "  <thead>\n",
       "    <tr style=\"text-align: right;\">\n",
       "      <th></th>\n",
       "      <th>F1</th>\n",
       "      <th>F2</th>\n",
       "      <th>F3</th>\n",
       "      <th>F4</th>\n",
       "      <th>T1</th>\n",
       "    </tr>\n",
       "  </thead>\n",
       "  <tbody>\n",
       "    <tr>\n",
       "      <th>0</th>\n",
       "      <td>5.1</td>\n",
       "      <td>3.5</td>\n",
       "      <td>1.4</td>\n",
       "      <td>0.2</td>\n",
       "      <td>Iris-setosa</td>\n",
       "    </tr>\n",
       "    <tr>\n",
       "      <th>1</th>\n",
       "      <td>4.9</td>\n",
       "      <td>3.0</td>\n",
       "      <td>1.4</td>\n",
       "      <td>0.2</td>\n",
       "      <td>Iris-setosa</td>\n",
       "    </tr>\n",
       "    <tr>\n",
       "      <th>2</th>\n",
       "      <td>4.7</td>\n",
       "      <td>3.2</td>\n",
       "      <td>1.3</td>\n",
       "      <td>0.2</td>\n",
       "      <td>Iris-setosa</td>\n",
       "    </tr>\n",
       "    <tr>\n",
       "      <th>3</th>\n",
       "      <td>4.6</td>\n",
       "      <td>3.1</td>\n",
       "      <td>1.5</td>\n",
       "      <td>0.2</td>\n",
       "      <td>Iris-setosa</td>\n",
       "    </tr>\n",
       "    <tr>\n",
       "      <th>4</th>\n",
       "      <td>5.0</td>\n",
       "      <td>3.6</td>\n",
       "      <td>1.4</td>\n",
       "      <td>0.2</td>\n",
       "      <td>Iris-setosa</td>\n",
       "    </tr>\n",
       "  </tbody>\n",
       "</table>\n",
       "</div>"
      ],
      "text/plain": [
       "    F1   F2   F3   F4           T1\n",
       "0  5.1  3.5  1.4  0.2  Iris-setosa\n",
       "1  4.9  3.0  1.4  0.2  Iris-setosa\n",
       "2  4.7  3.2  1.3  0.2  Iris-setosa\n",
       "3  4.6  3.1  1.5  0.2  Iris-setosa\n",
       "4  5.0  3.6  1.4  0.2  Iris-setosa"
      ]
     },
     "execution_count": 15,
     "metadata": {},
     "output_type": "execute_result"
    }
   ],
   "source": [
    "deserialized_df.head()"
   ]
  },
  {
   "cell_type": "code",
   "execution_count": null,
   "id": "7a5e4990-536b-4362-8ef2-113d576f477c",
   "metadata": {},
   "outputs": [],
   "source": []
  }
 ],
 "metadata": {
  "kernelspec": {
   "display_name": "Python 3 (ipykernel)",
   "language": "python",
   "name": "python3"
  },
  "language_info": {
   "codemirror_mode": {
    "name": "ipython",
    "version": 3
   },
   "file_extension": ".py",
   "mimetype": "text/x-python",
   "name": "python",
   "nbconvert_exporter": "python",
   "pygments_lexer": "ipython3",
   "version": "3.8.20"
  }
 },
 "nbformat": 4,
 "nbformat_minor": 5
}
